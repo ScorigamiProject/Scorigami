{
 "cells": [
  {
   "cell_type": "code",
   "execution_count": 28,
   "metadata": {},
   "outputs": [],
   "source": [
    "import plotly.plotly as py\n",
    "import plotly.graph_objs as go"
   ]
  },
  {
   "cell_type": "code",
   "execution_count": 29,
   "metadata": {},
   "outputs": [
    {
     "data": {
      "text/html": [
       "<iframe id=\"igraph\" scrolling=\"no\" style=\"border:none;\" seamless=\"seamless\" src=\"https://plot.ly/~brandon.morgan01/92.embed\" height=\"525px\" width=\"100%\"></iframe>"
      ],
      "text/plain": [
       "<plotly.tools.PlotlyDisplay object>"
      ]
     },
     "execution_count": 29,
     "metadata": {},
     "output_type": "execute_result"
    }
   ],
   "source": [
    "nfc_east = [\n",
    "    go.Scatterpolar(\n",
    "      r = [33927142, 19209750, 37354110, 11189060, 9216568, 9509739, 2900000],\n",
    "      theta = [\"Defensive Line\", \"Linebacker\", \"Offensive Line\", \"Passing\", \"Rushing\", \"Secondary\", \"Special Teams\"],\n",
    "      fill = 'toself',\n",
    "      name = 'Dallas Cowboys'\n",
    "    ),\n",
    "    go.Scatterpolar(\n",
    "      r = [36658292, 6629300, 34676919, 44166418, 2632378, 9683320, 1672500],\n",
    "      theta = [\"Defensive Line\", \"Linebacker\", \"Offensive Line\", \"Passing\", \"Rushing\", \"Secondary\", \"Special Teams\"],\n",
    "      fill = 'toself',\n",
    "      name = 'Philadelphia Eagles'\n",
    "    ),\n",
    "    go.Scatterpolar(\n",
    "      r = [6724656, 29518000, 15085197, 42129323, 6821390, 15060097, 2200000],\n",
    "      theta = [\"Defensive Line\", \"Linebacker\", \"Offensive Line\", \"Passing\", \"Rushing\", \"Secondary\", \"Special Teams\"],\n",
    "      fill = 'toself',\n",
    "      name = 'New York Giants'\n",
    "    ),\n",
    "    go.Scatterpolar(\n",
    "      r = [11701129, 23749223, 23821562, 12165426, 4992784, 23041044, 3433990],\n",
    "      theta = [\"Defensive Line\", \"Linebacker\", \"Offensive Line\", \"Passing\", \"Rushing\", \"Secondary\", \"Special Teams\"],\n",
    "      fill = 'toself',\n",
    "      name = 'Washington Redskins'\n",
    "    )\n",
    "]\n",
    "\n",
    "layout = go.Layout(\n",
    "  legend=dict(x=.75, y=.85),\n",
    "  title='NFC East - Where Do Teams Spend Their Money?',\n",
    "  polar = dict(\n",
    "    radialaxis = dict(\n",
    "      visible = True,\n",
    "      range = [0, 60000000]\n",
    "    )\n",
    "  ),\n",
    "  showlegend = True\n",
    ")\n",
    "\n",
    "nfc_east_fig = go.Figure(data=nfc_east, layout=layout)\n",
    "py.iplot(nfc_east_fig)"
   ]
  },
  {
   "cell_type": "code",
   "execution_count": 30,
   "metadata": {},
   "outputs": [
    {
     "data": {
      "text/html": [
       "<iframe id=\"igraph\" scrolling=\"no\" style=\"border:none;\" seamless=\"seamless\" src=\"https://plot.ly/~brandon.morgan01/94.embed\" height=\"525px\" width=\"100%\"></iframe>"
      ],
      "text/plain": [
       "<plotly.tools.PlotlyDisplay object>"
      ]
     },
     "execution_count": 30,
     "metadata": {},
     "output_type": "execute_result"
    }
   ],
   "source": [
    "nfc_north = [\n",
    "    go.Scatterpolar(\n",
    "      r = [6650881, 12759404, 15584918, 34787881, 6652941, 26281424, 6845000],\n",
    "      theta = [\"Defensive Line\", \"Linebacker\", \"Offensive Line\", \"Passing\", \"Rushing\", \"Secondary\", \"Special Teams\"],\n",
    "      fill = 'toself',\n",
    "      name = 'Detroit Lions'\n",
    "    ),\n",
    "    go.Scatterpolar(\n",
    "      r = [20570010, 30592325, 25863683, 45501020, 3448492, 20155499, 5942500],\n",
    "      theta = [\"Defensive Line\", \"Linebacker\", \"Offensive Line\", \"Passing\", \"Rushing\", \"Secondary\", \"Special Teams\"],\n",
    "      fill = 'toself',\n",
    "      name = 'Chicago Bears'\n",
    "    ),\n",
    "    go.Scatterpolar(\n",
    "      r = [2637451, 14870489, 31530360, 57984542, 1021204, 9848673, 6283723],\n",
    "      theta = [\"Defensive Line\", \"Linebacker\", \"Offensive Line\", \"Passing\", \"Rushing\", \"Secondary\", \"Special Teams\"],\n",
    "      fill = 'toself',\n",
    "      name = 'Green Bay Packers'\n",
    "    ),\n",
    "    go.Scatterpolar(\n",
    "      r = [36673595, 17844387, 22721901, 50805762, 8094025, 33394168, 3230000],\n",
    "      theta = [\"Defensive Line\", \"Linebacker\", \"Offensive Line\", \"Passing\", \"Rushing\", \"Secondary\", \"Special Teams\"],\n",
    "      fill = 'toself',\n",
    "      name = 'Minnesota Vikings'\n",
    "    )\n",
    "]\n",
    "\n",
    "layout = go.Layout(\n",
    "  legend=dict(x=.75, y=.85),\n",
    "  title='NFC North - Where Do Teams Spend Their Money?',\n",
    "  polar = dict(\n",
    "    radialaxis = dict(\n",
    "      visible = True,\n",
    "      range = [0, 60000000]\n",
    "    )\n",
    "  ),\n",
    "  showlegend = True\n",
    ")\n",
    "\n",
    "nfc_north_fig = go.Figure(data=nfc_north, layout=layout)\n",
    "py.iplot(nfc_north_fig)"
   ]
  },
  {
   "cell_type": "code",
   "execution_count": 31,
   "metadata": {},
   "outputs": [
    {
     "data": {
      "text/html": [
       "<iframe id=\"igraph\" scrolling=\"no\" style=\"border:none;\" seamless=\"seamless\" src=\"https://plot.ly/~brandon.morgan01/96.embed\" height=\"525px\" width=\"100%\"></iframe>"
      ],
      "text/plain": [
       "<plotly.tools.PlotlyDisplay object>"
      ]
     },
     "execution_count": 31,
     "metadata": {},
     "output_type": "execute_result"
    }
   ],
   "source": [
    "nfc_south = [\n",
    "    go.Scatterpolar(\n",
    "      r = [43518046, 14481157, 24861346, 35085558, 5479454, 12693975, 2470882],\n",
    "      theta = [\"Defensive Line\", \"Linebacker\", \"Offensive Line\", \"Passing\", \"Rushing\", \"Secondary\", \"Special Teams\"],\n",
    "      fill = 'toself',\n",
    "      name = 'Carolina Panthers'\n",
    "    ),\n",
    "    go.Scatterpolar(\n",
    "      r = [27506682, 14615854, 34396062, 40235926, 7700840, 14010759, 3280000],\n",
    "      theta = [\"Defensive Line\", \"Linebacker\", \"Offensive Line\", \"Passing\", \"Rushing\", \"Secondary\", \"Special Teams\"],\n",
    "      fill = 'toself',\n",
    "      name = 'New Orleans Saints'\n",
    "    ),\n",
    "    go.Scatterpolar(\n",
    "      r = [20579225, 4516688, 31191773, 48643072, 2054409, 28978875, 5374019],\n",
    "      theta = [\"Defensive Line\", \"Linebacker\", \"Offensive Line\", \"Passing\", \"Rushing\", \"Secondary\", \"Special Teams\"],\n",
    "      fill = 'toself',\n",
    "      name = 'Atlanta Falcons'\n",
    "    ),\n",
    "    go.Scatterpolar(\n",
    "      r = [48968992, 11180589, 22898202, 54008704, 3515801, 13315734, 3889412],\n",
    "      theta = [\"Defensive Line\", \"Linebacker\", \"Offensive Line\", \"Passing\", \"Rushing\", \"Secondary\", \"Special Teams\"],\n",
    "      fill = 'toself',\n",
    "      name = 'Tampa Bay Buccaneers'\n",
    "    )\n",
    "]\n",
    "\n",
    "layout = go.Layout(\n",
    "  legend=dict(x=.75, y=.85),\n",
    "  title='NFC South - Where Do Teams Spend Their Money?',\n",
    "  polar = dict(\n",
    "    radialaxis = dict(\n",
    "      visible = True,\n",
    "      range = [0, 60000000]\n",
    "    )\n",
    "  ),\n",
    "  showlegend = True\n",
    ")\n",
    "\n",
    "nfc_south_fig = go.Figure(data=nfc_south, layout=layout)\n",
    "py.iplot(nfc_south_fig)"
   ]
  },
  {
   "cell_type": "code",
   "execution_count": 32,
   "metadata": {},
   "outputs": [
    {
     "data": {
      "text/html": [
       "<iframe id=\"igraph\" scrolling=\"no\" style=\"border:none;\" seamless=\"seamless\" src=\"https://plot.ly/~brandon.morgan01/98.embed\" height=\"525px\" width=\"100%\"></iframe>"
      ],
      "text/plain": [
       "<plotly.tools.PlotlyDisplay object>"
      ]
     },
     "execution_count": 32,
     "metadata": {},
     "output_type": "execute_result"
    }
   ],
   "source": [
    "nfc_west = [\n",
    "    go.Scatterpolar(\n",
    "      r = [41341683, 14735904, 29363516, 23812960, 8408319, 33361188, 7578551],\n",
    "      theta = [\"Defensive Line\", \"Linebacker\", \"Offensive Line\", \"Passing\", \"Rushing\", \"Secondary\", \"Special Teams\"],\n",
    "      fill = 'toself',\n",
    "      name = 'Los Angeles Rams'\n",
    "    ),\n",
    "    go.Scatterpolar(\n",
    "      r = [10624024, 25474109, 22377225, 45751240, 5182604, 12245760, 3197537],\n",
    "      theta = [\"Defensive Line\", \"Linebacker\", \"Offensive Line\", \"Passing\", \"Rushing\", \"Secondary\", \"Special Teams\"],\n",
    "      fill = 'toself',\n",
    "      name = 'Seattle Seahawks'\n",
    "    ),\n",
    "    go.Scatterpolar(\n",
    "      r = [20709028, 10550120, 41852671, 12815949, 5560586, 12035363, 3134138],\n",
    "      theta = [\"Defensive Line\", \"Linebacker\", \"Offensive Line\", \"Passing\", \"Rushing\", \"Secondary\", \"Special Teams\"],\n",
    "      fill = 'toself',\n",
    "      name = 'San Francisco 49ers'\n",
    "    ),\n",
    "    go.Scatterpolar(\n",
    "      r = [22548633, 13513467, 2602729, 33736256, 6795917, 26042262, 3674485],\n",
    "      theta = [\"Defensive Line\", \"Linebacker\", \"Offensive Line\", \"Passing\", \"Rushing\", \"Secondary\", \"Special Teams\"],\n",
    "      fill = 'toself',\n",
    "      name = 'Arizona Cardinals'\n",
    "    )\n",
    "]\n",
    "\n",
    "layout = go.Layout(\n",
    "  legend=dict(x=.75, y=.85),\n",
    "  title='NFC West - Where Do Teams Spend Their Money?',\n",
    "  polar = dict(\n",
    "    radialaxis = dict(\n",
    "      visible = True,\n",
    "      range = [0, 60000000]\n",
    "    )\n",
    "  ),\n",
    "  showlegend = True\n",
    ")\n",
    "\n",
    "nfc_west_fig = go.Figure(data=nfc_west, layout=layout)\n",
    "py.iplot(nfc_west_fig)"
   ]
  },
  {
   "cell_type": "code",
   "execution_count": 33,
   "metadata": {},
   "outputs": [
    {
     "data": {
      "text/html": [
       "<iframe id=\"igraph\" scrolling=\"no\" style=\"border:none;\" seamless=\"seamless\" src=\"https://plot.ly/~brandon.morgan01/100.embed\" height=\"525px\" width=\"100%\"></iframe>"
      ],
      "text/plain": [
       "<plotly.tools.PlotlyDisplay object>"
      ]
     },
     "execution_count": 33,
     "metadata": {},
     "output_type": "execute_result"
    }
   ],
   "source": [
    "afc_east = [\n",
    "    go.Scatterpolar(\n",
    "      r = [17020868, 15356668, 17253020, 51894826, 8675308, 37878020, 7860000],\n",
    "      theta = [\"Defensive Line\", \"Linebacker\", \"Offensive Line\", \"Passing\", \"Rushing\", \"Secondary\", \"Special Teams\"],\n",
    "      fill = 'toself',\n",
    "      name = 'New England Patriots'\n",
    "    ),\n",
    "    go.Scatterpolar(\n",
    "      r = [38244972, 13648248, 17925207, 32809667, 3017610, 16171195, 1689133],\n",
    "      theta = [\"Defensive Line\", \"Linebacker\", \"Offensive Line\", \"Passing\", \"Rushing\", \"Secondary\", \"Special Teams\"],\n",
    "      fill = 'toself',\n",
    "      name = 'Miami Dolphins'\n",
    "    ),\n",
    "    go.Scatterpolar(\n",
    "      r = [17536477, 8597744, 26990969, 24974831, 1126562, 29859667, 1908948],\n",
    "      theta = [\"Defensive Line\", \"Linebacker\", \"Offensive Line\", \"Passing\", \"Rushing\", \"Secondary\", \"Special Teams\"],\n",
    "      fill = 'toself',\n",
    "      name = 'New York Jets'\n",
    "    ),\n",
    "    go.Scatterpolar(\n",
    "      r = [32413909, 8101145, 11380213, 18134342, 13490955, 16745520, 3740294],\n",
    "      theta = [\"Defensive Line\", \"Linebacker\", \"Offensive Line\", \"Passing\", \"Rushing\", \"Secondary\", \"Special Teams\"],\n",
    "      fill = 'toself',\n",
    "      name = 'Buffalo Bills'\n",
    "    )\n",
    "]\n",
    "\n",
    "layout = go.Layout(\n",
    "  legend=dict(x=.75, y=.85),\n",
    "  title='AFC East - Where Do Teams Spend Their Money?',\n",
    "  polar = dict(\n",
    "    radialaxis = dict(\n",
    "      visible = True,\n",
    "      range = [0, 60000000]\n",
    "    )\n",
    "  ),\n",
    "  showlegend = True\n",
    ")\n",
    "\n",
    "afc_east_fig = go.Figure(data=afc_east, layout=layout)\n",
    "py.iplot(afc_east_fig)"
   ]
  },
  {
   "cell_type": "code",
   "execution_count": 34,
   "metadata": {},
   "outputs": [
    {
     "data": {
      "text/html": [
       "<iframe id=\"igraph\" scrolling=\"no\" style=\"border:none;\" seamless=\"seamless\" src=\"https://plot.ly/~brandon.morgan01/102.embed\" height=\"525px\" width=\"100%\"></iframe>"
      ],
      "text/plain": [
       "<plotly.tools.PlotlyDisplay object>"
      ]
     },
     "execution_count": 34,
     "metadata": {},
     "output_type": "execute_result"
    }
   ],
   "source": [
    "afc_north = [\n",
    "    go.Scatterpolar(\n",
    "      r = [9561330, 23749385, 20802331, 43963498, 2259156, 40087224, 9736666],\n",
    "      theta = [\"Defensive Line\", \"Linebacker\", \"Offensive Line\", \"Passing\", \"Rushing\", \"Secondary\", \"Special Teams\"],\n",
    "      fill = 'toself',\n",
    "      name = 'Baltimore Ravens'\n",
    "    ),\n",
    "    go.Scatterpolar(\n",
    "      r = [35609625, 11942289, 24897082, 9487555, 6673246, 18862601, 4725000],\n",
    "      theta = [\"Defensive Line\", \"Linebacker\", \"Offensive Line\", \"Passing\", \"Rushing\", \"Secondary\", \"Special Teams\"],\n",
    "      fill = 'toself',\n",
    "      name = 'Cincinnati Bengals'\n",
    "    ),\n",
    "    go.Scatterpolar(\n",
    "      r = [15435859, 14850430, 34715901, 48542438, 5575724, 19653283, 3678529],\n",
    "      theta = [\"Defensive Line\", \"Linebacker\", \"Offensive Line\", \"Passing\", \"Rushing\", \"Secondary\", \"Special Teams\"],\n",
    "      fill = 'toself',\n",
    "      name = 'Cleveland Browns'\n",
    "    ),\n",
    "    go.Scatterpolar(\n",
    "      r = [18441798, 13398744, 26348259, 41594751, 3497176, 24480235, 2565235],\n",
    "      theta = [\"Defensive Line\", \"Linebacker\", \"Offensive Line\", \"Passing\", \"Rushing\", \"Secondary\", \"Special Teams\"],\n",
    "      fill = 'toself',\n",
    "      name = 'Pittsburgh Steelers'\n",
    "    )\n",
    "]\n",
    "\n",
    "layout = go.Layout(\n",
    "  legend=dict(x=.75, y=.85),\n",
    "  title='AFC North - Where Do Teams Spend Their Money?',\n",
    "  polar = dict(\n",
    "    radialaxis = dict(\n",
    "      visible = True,\n",
    "      range = [0, 60000000]\n",
    "    )\n",
    "  ),\n",
    "  showlegend = True\n",
    ")\n",
    "\n",
    "afc_north_fig = go.Figure(data=afc_north, layout=layout)\n",
    "py.iplot(afc_north_fig)"
   ]
  },
  {
   "cell_type": "code",
   "execution_count": 35,
   "metadata": {},
   "outputs": [
    {
     "data": {
      "text/html": [
       "<iframe id=\"igraph\" scrolling=\"no\" style=\"border:none;\" seamless=\"seamless\" src=\"https://plot.ly/~brandon.morgan01/104.embed\" height=\"525px\" width=\"100%\"></iframe>"
      ],
      "text/plain": [
       "<plotly.tools.PlotlyDisplay object>"
      ]
     },
     "execution_count": 35,
     "metadata": {},
     "output_type": "execute_result"
    }
   ],
   "source": [
    "afc_south = [\n",
    "    go.Scatterpolar(\n",
    "      r = [20408109, 4206294, 22714741, 51879483, 3036212, 9861539, 4184000],\n",
    "      theta = [\"Defensive Line\", \"Linebacker\", \"Offensive Line\", \"Passing\", \"Rushing\", \"Secondary\", \"Special Teams\"],\n",
    "      fill = 'toself',\n",
    "      name = 'Indianapolis Colts'\n",
    "    ),\n",
    "    go.Scatterpolar(\n",
    "      r = [50991496, 11488256, 4869310, 24361057, 10454946, 37475584, 1082022],\n",
    "      theta = [\"Defensive Line\", \"Linebacker\", \"Offensive Line\", \"Passing\", \"Rushing\", \"Secondary\", \"Special Teams\"],\n",
    "      fill = 'toself',\n",
    "      name = 'Jacksonville Jaguars'\n",
    "    ),\n",
    "    go.Scatterpolar(\n",
    "      r = [11879403, 30581023, 26766265, 20118244, 5917977, 14873514, 7718000],\n",
    "      theta = [\"Defensive Line\", \"Linebacker\", \"Offensive Line\", \"Passing\", \"Rushing\", \"Secondary\", \"Special Teams\"],\n",
    "      fill = 'toself',\n",
    "      name = 'Tennessee Titans'\n",
    "    ),\n",
    "    go.Scatterpolar(\n",
    "      r = [20244649, 29398163, 18340377, 24020001, 8681496, 37848369, 2003166],\n",
    "      theta = [\"Defensive Line\", \"Linebacker\", \"Offensive Line\", \"Passing\", \"Rushing\", \"Secondary\", \"Special Teams\"],\n",
    "      fill = 'toself',\n",
    "      name = 'Houston Texans'\n",
    "    )\n",
    "]\n",
    "\n",
    "layout = go.Layout(\n",
    "  legend=dict(x=.75, y=.85),\n",
    "  title='AFC South - Where Do Teams Spend Their Money?',\n",
    "  polar = dict(\n",
    "    radialaxis = dict(\n",
    "      visible = True,\n",
    "      range = [0, 60000000]\n",
    "    )\n",
    "  ),\n",
    "  showlegend = True\n",
    ")\n",
    "\n",
    "afc_south_fig = go.Figure(data=afc_south, layout=layout)\n",
    "py.iplot(afc_south_fig)"
   ]
  },
  {
   "cell_type": "code",
   "execution_count": 36,
   "metadata": {},
   "outputs": [
    {
     "data": {
      "text/html": [
       "<iframe id=\"igraph\" scrolling=\"no\" style=\"border:none;\" seamless=\"seamless\" src=\"https://plot.ly/~brandon.morgan01/106.embed\" height=\"525px\" width=\"100%\"></iframe>"
      ],
      "text/plain": [
       "<plotly.tools.PlotlyDisplay object>"
      ]
     },
     "execution_count": 36,
     "metadata": {},
     "output_type": "execute_result"
    }
   ],
   "source": [
    "afc_west = [\n",
    "    go.Scatterpolar(\n",
    "      r = [19807123, 33800205, 13725363, 19434052, 2126180, 21340876, 4497055],\n",
    "      theta = [\"Defensive Line\", \"Linebacker\", \"Offensive Line\", \"Passing\", \"Rushing\", \"Secondary\", \"Special Teams\"],\n",
    "      fill = 'toself',\n",
    "      name = 'Denver Broncos'\n",
    "    ),\n",
    "    go.Scatterpolar(\n",
    "      r = [31350583, 5270374, 27502391, 54528393, 5417835, 18723869, 1777645],\n",
    "      theta = [\"Defensive Line\", \"Linebacker\", \"Offensive Line\", \"Passing\", \"Rushing\", \"Secondary\", \"Special Teams\"],\n",
    "      fill = 'toself',\n",
    "      name = 'Los Angeles Chargers'\n",
    "    ),\n",
    "    go.Scatterpolar(\n",
    "      r = [12215274, 10219844, 17805643, 52223940, 4302298, 17282304, 1268504],\n",
    "      theta = [\"Defensive Line\", \"Linebacker\", \"Offensive Line\", \"Passing\", \"Rushing\", \"Secondary\", \"Special Teams\"],\n",
    "      fill = 'toself',\n",
    "      name = 'Oakland Raiders'\n",
    "    ),\n",
    "    go.Scatterpolar(\n",
    "      r = [14751750, 35934924, 28028151, 31091702, 5804069, 25406139, 3085000],\n",
    "      theta = [\"Defensive Line\", \"Linebacker\", \"Offensive Line\", \"Passing\", \"Rushing\", \"Secondary\", \"Special Teams\"],\n",
    "      fill = 'toself',\n",
    "      name = 'Kansas City Chiefs'\n",
    "    )\n",
    "]\n",
    "\n",
    "layout = go.Layout(\n",
    "  legend=dict(x=.75, y=.85),\n",
    "  title='AFC West - Where Do Teams Spend Their Money?',\n",
    "  polar = dict(\n",
    "    radialaxis = dict(\n",
    "      visible = True,\n",
    "      range = [0, 60000000]\n",
    "    )\n",
    "  ),\n",
    "  showlegend = True\n",
    ")\n",
    "\n",
    "afc_west_fig = go.Figure(data=afc_west, layout=layout)\n",
    "py.iplot(afc_west_fig)"
   ]
  },
  {
   "cell_type": "code",
   "execution_count": null,
   "metadata": {},
   "outputs": [],
   "source": []
  }
 ],
 "metadata": {
  "kernelspec": {
   "display_name": "Python [conda env:anaconda3]",
   "language": "python",
   "name": "conda-env-anaconda3-py"
  }
 },
 "nbformat": 4,
 "nbformat_minor": 2
}
